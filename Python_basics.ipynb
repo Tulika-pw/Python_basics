{
  "nbformat": 4,
  "nbformat_minor": 0,
  "metadata": {
    "colab": {
      "provenance": []
    },
    "kernelspec": {
      "name": "python3",
      "display_name": "Python 3"
    },
    "language_info": {
      "name": "python"
    }
  },
  "cells": [
    {
      "cell_type": "markdown",
      "source": [
        "**Python Basics- Q/A**\n",
        "\n",
        "**1.What is Python and why is it popular?**\n",
        "\n",
        " -Python is a computer programming language through which we can give instructions to the computer.\n",
        " -Due to simplicity, versatility, an extensive ecosystem of open source libraries and tools that are easily available, also having a strong community make the python so popular among all programming languages.\n",
        "\n",
        "**2.What is an interpreter in Python?**\n",
        "\n",
        "-An interpreter translates the command or program statement that we write into code that the computer can understand.\n",
        "\n",
        "**3.What are predefined keywords in Python?**\n",
        "\n",
        "-Predefined keywords are reserved words with special meaning to perform specific tasks in python programming. It is part of syntax.\n",
        "\n",
        "**4.Can keywords be used as variable name?**\n",
        "\n",
        "-No. Keywords can’t be used as variable name.\n",
        "\n",
        "**5.What is mutability in Python?**\n",
        "\n",
        "-Mutability is the ability to change or modify the values of the objects in python.\n",
        "\n",
        "**6.Why are lists mutable but tuples are immutable?**\n",
        "\n",
        "-Lists are mutable, which means this data structure can be modified if required but if we don’t want to change some data for lifetime, we can store those data as tuples so that it cannot be modified later.\n",
        "\n",
        "**7.What are the difference between ‘==’ and ‘is’ operator in python?**\n",
        "\n",
        "-The ‘==’ is the equality operator which helps us to compare the equality of objects. Whereas, ‘is’ is an identity operator which helps us to check whether different variables point towards a similar object.\n",
        "\n",
        "**8.What are logical operators in python?**\n",
        "\n",
        "-Logical operators are “and”, “or” and “not” operators.\n",
        "\n",
        "**9.What is type casting in python?**\n",
        "\n",
        "-Type casting is a process that converts a variable’s data type into another data type.\n",
        "\n",
        "**10.What is the difference between implicit and explicit type casting?**\n",
        "\n",
        "-In implicit type casting, python understands data type on its own.\n",
        "-In explicit type casting, programmer needs to give instructions manually to convert data type using inbuilt functions.\n",
        "\n",
        "**11. What is purpose of conditional statement in python?**\n",
        "\n",
        "-Conditional statement allows to make decision based on values of variables and the specific conditions.\n",
        "\n",
        "**12. How does elif statement work?**\n",
        "\n",
        "- ‘elif’ stands for ‘else if’. This keyword is in conditional statements to check for multiple conditions. If the first condition is false then, it moves on to the next ‘elif’ statement.\n",
        "\n",
        "**13. What is the difference between ‘for’ and ‘while’ loop?**\n",
        "\n",
        "-In ‘for’ loop, the block of code from a sequence is repeatedly executed till certain number of times. It is an iteration of a sequence of elements.\n",
        "-In ‘while’ loop, the block of code is repeatedly executed until a condition is met.\n",
        "\n",
        "**14. Describe a scenario where a ‘while loop’ is more suitable than ‘for loop’.**\n",
        "\n",
        "- ‘While loop’ is used when the number of iterations is not predetermined and depends on some condition.\n",
        "e.g., n = 4\n",
        "         i = 1\n",
        "         while i<n: (# this is the condition here)\n",
        "         print(i)\n",
        "         i= i+1\n",
        "    else, print(stop)\n",
        "After running the program, we get 1 to 3 but not 4 as condition is met.\n",
        "1\n",
        "2\n",
        "3\n",
        "Stop\n",
        "-Where as in ‘for’ loop,\n",
        "l = [1,2,3,4]\n",
        "for i in l\n",
        "print(i)\n",
        "\n",
        "After running the program, we get all integers.\n",
        "1\n",
        "2\n",
        "3\n",
        "4\n"
      ],
      "metadata": {
        "id": "8bXm7sC1xea_"
      }
    },
    {
      "cell_type": "code",
      "execution_count": null,
      "metadata": {
        "colab": {
          "base_uri": "https://localhost:8080/"
        },
        "id": "V1EtxLUn3zil",
        "outputId": "00a1c39d-7aec-4629-8c13-7d3666964820"
      },
      "outputs": [
        {
          "output_type": "stream",
          "name": "stdout",
          "text": [
            "Hello, World!\n"
          ]
        }
      ],
      "source": [
        "#1. Write a python program to print \"Hello, World!\"\n",
        "\n",
        "print(\"Hello, World!\")"
      ]
    },
    {
      "cell_type": "code",
      "source": [
        "#2. Write a python program that displays your name and age.\n",
        "\n",
        "print(\"Name:Tulika Nandy,\", \"Age: 31\")"
      ],
      "metadata": {
        "colab": {
          "base_uri": "https://localhost:8080/"
        },
        "id": "EZ6lofQG4Pg8",
        "outputId": "2123058e-68f7-468d-aa99-2c058c0fefc2"
      },
      "execution_count": 7,
      "outputs": [
        {
          "output_type": "stream",
          "name": "stdout",
          "text": [
            "Name:Tulika Nandy, Age: 31\n"
          ]
        }
      ]
    },
    {
      "cell_type": "code",
      "source": [
        "Name = \"Tulika Nandy\"\n",
        "Age = \"31 years\"\n",
        "print(Name)\n",
        "print(Age)"
      ],
      "metadata": {
        "colab": {
          "base_uri": "https://localhost:8080/"
        },
        "id": "4zWQaitn9X12",
        "outputId": "92b9c5e8-b507-4fec-b93d-6cc83d66feb3"
      },
      "execution_count": 8,
      "outputs": [
        {
          "output_type": "stream",
          "name": "stdout",
          "text": [
            "Tulika Nandy\n",
            "31 years\n"
          ]
        }
      ]
    },
    {
      "cell_type": "code",
      "source": [
        "#3. write code to print all the pre-defined keywords in python using the keyword library\n",
        "import keyword\n",
        "A = (keyword.kwlist)\n",
        "print(A)"
      ],
      "metadata": {
        "colab": {
          "base_uri": "https://localhost:8080/"
        },
        "id": "rPs617NI80Mt",
        "outputId": "86d42d4f-a1c0-4a28-ea3c-671317d088f7"
      },
      "execution_count": 12,
      "outputs": [
        {
          "output_type": "stream",
          "name": "stdout",
          "text": [
            "['False', 'None', 'True', 'and', 'as', 'assert', 'async', 'await', 'break', 'class', 'continue', 'def', 'del', 'elif', 'else', 'except', 'finally', 'for', 'from', 'global', 'if', 'import', 'in', 'is', 'lambda', 'nonlocal', 'not', 'or', 'pass', 'raise', 'return', 'try', 'while', 'with', 'yield']\n"
          ]
        }
      ]
    },
    {
      "cell_type": "code",
      "source": [
        "#4. Write a program that checks if a given word is a Python keyword.\n",
        "\n",
        "import keyword\n",
        "\n",
        "Word = input(\"Enter a word to check\")\n",
        "if Word in keyword.kwlist:\n",
        "    print(f\"'{Word}' is a python keyword\")\n",
        "else:\n",
        "    print(f\"'{Word}' is not python keyword\")\n"
      ],
      "metadata": {
        "colab": {
          "base_uri": "https://localhost:8080/"
        },
        "id": "4VB347BS-laj",
        "outputId": "21ee6a06-399b-40b3-b254-88b589f36744"
      },
      "execution_count": null,
      "outputs": [
        {
          "output_type": "stream",
          "name": "stdout",
          "text": [
            "Enter a word to checkelse\n",
            "'else' is a python keyword\n"
          ]
        }
      ]
    },
    {
      "cell_type": "code",
      "source": [
        "#5. Create a list and tuple in Python and demonstrate how attempting to change an element works differently for each.\n",
        "\n",
        "a = [1, 2, 3, 4, 5, 6] #this is a list where we can change the value of 3rd index from '4' to '8'.\n",
        "a[3] = 8\n",
        "print(a)\n",
        "\n",
        "b = (1, 2, 3, 4, 5, 6) #this is a tuple where we cannot change the value of 3rd index from '4' to '8'.\n",
        "b[3] = 8\n",
        "print(b) # this will throw syntax error."
      ],
      "metadata": {
        "id": "olh6oBnV-_6s",
        "colab": {
          "base_uri": "https://localhost:8080/",
          "height": 228
        },
        "outputId": "e3c69f1a-68c3-41da-8418-e61a499d6e86"
      },
      "execution_count": null,
      "outputs": [
        {
          "output_type": "stream",
          "name": "stdout",
          "text": [
            "[1, 2, 3, 8, 5, 6]\n"
          ]
        },
        {
          "output_type": "error",
          "ename": "TypeError",
          "evalue": "'tuple' object does not support item assignment",
          "traceback": [
            "\u001b[0;31m---------------------------------------------------------------------------\u001b[0m",
            "\u001b[0;31mTypeError\u001b[0m                                 Traceback (most recent call last)",
            "\u001b[0;32m<ipython-input-15-aa82f24aa1ab>\u001b[0m in \u001b[0;36m<cell line: 0>\u001b[0;34m()\u001b[0m\n\u001b[1;32m      6\u001b[0m \u001b[0;34m\u001b[0m\u001b[0m\n\u001b[1;32m      7\u001b[0m \u001b[0mb\u001b[0m \u001b[0;34m=\u001b[0m \u001b[0;34m(\u001b[0m\u001b[0;36m1\u001b[0m\u001b[0;34m,\u001b[0m \u001b[0;36m2\u001b[0m\u001b[0;34m,\u001b[0m \u001b[0;36m3\u001b[0m\u001b[0;34m,\u001b[0m \u001b[0;36m4\u001b[0m\u001b[0;34m,\u001b[0m \u001b[0;36m5\u001b[0m\u001b[0;34m,\u001b[0m \u001b[0;36m6\u001b[0m\u001b[0;34m)\u001b[0m \u001b[0;31m#this is a tuple where we cannot change the value of 3rd index from '4' to '8'.\u001b[0m\u001b[0;34m\u001b[0m\u001b[0;34m\u001b[0m\u001b[0m\n\u001b[0;32m----> 8\u001b[0;31m \u001b[0mb\u001b[0m\u001b[0;34m[\u001b[0m\u001b[0;36m3\u001b[0m\u001b[0;34m]\u001b[0m \u001b[0;34m=\u001b[0m \u001b[0;36m8\u001b[0m\u001b[0;34m\u001b[0m\u001b[0;34m\u001b[0m\u001b[0m\n\u001b[0m\u001b[1;32m      9\u001b[0m \u001b[0mprint\u001b[0m\u001b[0;34m(\u001b[0m\u001b[0mb\u001b[0m\u001b[0;34m)\u001b[0m\u001b[0;34m\u001b[0m\u001b[0;34m\u001b[0m\u001b[0m\n",
            "\u001b[0;31mTypeError\u001b[0m: 'tuple' object does not support item assignment"
          ]
        }
      ]
    },
    {
      "cell_type": "code",
      "source": [
        "#6. Write a function to demonstrate the behavior of mutable and immutable arguments.\n",
        "\n",
        "a = [1, 2, 3, 4, 5, 6] #this is a list where we can change the value of 3rd index from '4' to '8'. There fore, this one is showing the behaviour of mutable argument.\n",
        "a[3] = 8\n",
        "print(a)\n",
        "\n",
        "b = (1, 2, 3, 4, 5, 6) #this is a tuple where we cannot change the value of 3rd index from '4' to '8'.There fore, this one is showing the behaviour of immutable argument.\n",
        "a[3] = 8\n",
        "print(a)\n",
        "b[3] = 8\n",
        "print(b) # this will throw syntax error.\n",
        "\n"
      ],
      "metadata": {
        "id": "FLX-7iigDWM7"
      },
      "execution_count": null,
      "outputs": []
    },
    {
      "cell_type": "markdown",
      "source": [],
      "metadata": {
        "id": "NuwwtUt3sJe4"
      }
    },
    {
      "cell_type": "code",
      "source": [
        "#7. Write a program that performs basic arithmetic operations on two user- input numbers.\n",
        "\n",
        "A = int(input(\"Enter a number\"))\n",
        "B = int(input(\"Enter a number\"))\n",
        "print(A+B)\n",
        "print(A-B)\n",
        "print(A*B)\n",
        "if B == 0:\n",
        "  print(\"Divison not possible\")\n",
        "else:\n",
        "  print(A/B)\n"
      ],
      "metadata": {
        "id": "KGjSOmeZDWdD",
        "colab": {
          "base_uri": "https://localhost:8080/"
        },
        "outputId": "643b0d83-eddb-48c7-88a5-999974566391"
      },
      "execution_count": 1,
      "outputs": [
        {
          "output_type": "stream",
          "name": "stdout",
          "text": [
            "Enter a number25\n",
            "Enter a number5\n",
            "30\n",
            "20\n",
            "125\n",
            "5.0\n"
          ]
        }
      ]
    },
    {
      "cell_type": "code",
      "source": [
        "#8. Write a program to demonstrate the use of logical operators.\n",
        "\n",
        "P = True\n",
        "Q = False\n",
        "print(P and Q)\n",
        "print(P or Q)\n",
        "print(not P)\n",
        "print(not Q)"
      ],
      "metadata": {
        "id": "pHWyOKYdDWwE",
        "colab": {
          "base_uri": "https://localhost:8080/"
        },
        "outputId": "77d18d36-d8b6-4ac3-dbf8-e0cf4f38a054"
      },
      "execution_count": 2,
      "outputs": [
        {
          "output_type": "stream",
          "name": "stdout",
          "text": [
            "False\n",
            "True\n",
            "False\n",
            "True\n"
          ]
        }
      ]
    },
    {
      "cell_type": "code",
      "source": [
        "#9. Write a Python program to convert user input from string to integer, float, and boolean types.\n",
        "\n",
        "# Get user input as string\n",
        "user_input = input(\"Enter a value: \")\n",
        "\n",
        "# Convert to integer\n",
        "try:\n",
        "    int_value = int(user_input)\n",
        "    print(f\"Integer value: {int_value}\")\n",
        "except ValueError:4\n",
        "    print(\"Invalid integer conversion.\")\n",
        "\n",
        "# Convert to float\n",
        "try:\n",
        "    float_value = float(user_input)\n",
        "    print(f\"Float value: {float_value}\")\n",
        "except ValueError:\n",
        "    print(\"Invalid float conversion.\")\n",
        "\n",
        "# Convert to boolean\n",
        "# In Python, bool() returns False for empty string or \"0\", otherwise True\n",
        "bool_value = bool(user_input) and user_input.lower() not in ['false', '0', 'no', '']\n",
        "print(f\"Boolean value: {bool_value}\")\n",
        "\n",
        "\n",
        "\n"
      ],
      "metadata": {
        "id": "pI2QF4oVEEVI",
        "colab": {
          "base_uri": "https://localhost:8080/"
        },
        "outputId": "fff6c47e-a95b-42ac-deb4-bee9808cb5d5"
      },
      "execution_count": 39,
      "outputs": [
        {
          "output_type": "stream",
          "name": "stdout",
          "text": [
            "Enter a value: 45\n",
            "Integer value: 45\n",
            "Float value: 45.0\n",
            "Boolean value: True\n"
          ]
        }
      ]
    },
    {
      "cell_type": "markdown",
      "source": [],
      "metadata": {
        "id": "AqpnT5W_l6aL"
      }
    },
    {
      "cell_type": "code",
      "source": [
        "#10. Write code to demonstrate type casting with list elements.\n",
        "d = [\"apple\", \"banana\", \"mango\", 12]\n",
        "print(d)\n",
        "print (type(d[0]))\n",
        "print(type(d[3]))\n",
        "d[3] = \"orange\"\n",
        "print(d)\n",
        "print(type(d[3]))\n",
        "\n"
      ],
      "metadata": {
        "id": "TCAIcWPNEElg",
        "colab": {
          "base_uri": "https://localhost:8080/"
        },
        "outputId": "87fe0d9e-3cd3-49d2-9b92-4176e11703f2"
      },
      "execution_count": 52,
      "outputs": [
        {
          "output_type": "stream",
          "name": "stdout",
          "text": [
            "['apple', 'banana', 'mango', 12]\n",
            "<class 'str'>\n",
            "<class 'int'>\n",
            "['apple', 'banana', 'mango', 'orange']\n",
            "<class 'str'>\n"
          ]
        }
      ]
    },
    {
      "cell_type": "code",
      "source": [
        "#11. Write a program that checks if a numbe is positive, negative, or zero.\n",
        "\n",
        "numb = int(input(\"Enter a number\"))\n",
        "if numb > 0:\n",
        "  print(\"Number is positive\")\n",
        "elif numb < 0:\n",
        "  print(\"Number is negative\")\n",
        "else:\n",
        "  print(\"Number is zero\")"
      ],
      "metadata": {
        "id": "nUebIQVOEExN",
        "colab": {
          "base_uri": "https://localhost:8080/"
        },
        "outputId": "8339d020-dd07-4862-ee3d-df26e9774a0b"
      },
      "execution_count": 55,
      "outputs": [
        {
          "output_type": "stream",
          "name": "stdout",
          "text": [
            "Enter a number5\n",
            "Number is positive\n"
          ]
        }
      ]
    },
    {
      "cell_type": "code",
      "source": [
        "#12. Write a for loop to print numbers from 1 to 10.\n",
        "for i in range(1,11):\n",
        "  print(i)"
      ],
      "metadata": {
        "id": "udzwH1DNEFvM",
        "colab": {
          "base_uri": "https://localhost:8080/"
        },
        "outputId": "fbe7195f-55f1-4d0e-be8c-e0017262657f"
      },
      "execution_count": 13,
      "outputs": [
        {
          "output_type": "stream",
          "name": "stdout",
          "text": [
            "1\n",
            "2\n",
            "3\n",
            "4\n",
            "5\n",
            "6\n",
            "7\n",
            "8\n",
            "9\n",
            "10\n"
          ]
        }
      ]
    },
    {
      "cell_type": "code",
      "source": [
        "#13. Write a Python program to find the sum of all even numbers between 1 to 50.\n",
        "j = 0\n",
        "for i in range(1,51):\n",
        " if i%2 == 0:\n",
        "  j = j+i\n",
        "print(f\"Sum of all even numbers between 1 to 50 is {j}\")"
      ],
      "metadata": {
        "id": "Zi5_a1SeEF54",
        "colab": {
          "base_uri": "https://localhost:8080/"
        },
        "outputId": "df2c7210-0e63-4b83-d591-df702b121add"
      },
      "execution_count": 62,
      "outputs": [
        {
          "output_type": "stream",
          "name": "stdout",
          "text": [
            "Sum of all even numbers between 1 to 50 is 650\n"
          ]
        }
      ]
    },
    {
      "cell_type": "code",
      "source": [
        "#14. Write a program to reverse a string using a while loop.\n",
        "d = (\"tulika\")\n",
        "i = len(d) - 1\n",
        "while i >= 0:\n",
        "  print(d[i])\n",
        "  i = i - 1"
      ],
      "metadata": {
        "id": "M72YaQd7EGE0",
        "colab": {
          "base_uri": "https://localhost:8080/"
        },
        "outputId": "6aa7f557-e2ae-42a9-a458-6abdb554183d"
      },
      "execution_count": 1,
      "outputs": [
        {
          "output_type": "stream",
          "name": "stdout",
          "text": [
            "a\n",
            "k\n",
            "i\n",
            "l\n",
            "u\n",
            "t\n"
          ]
        }
      ]
    },
    {
      "cell_type": "code",
      "source": [
        "#15. Write a python program to calculate the factorial of a number provided by the user using a while loop.\n",
        "i = int(input('Input a number'))\n",
        "j = 1\n",
        "while i >= 1:\n",
        "  j = j * i\n",
        "  i = i - 1\n",
        "print(f\"Factorial of a number is {j}\")\n"
      ],
      "metadata": {
        "id": "uk3UYJQXFO1p",
        "colab": {
          "base_uri": "https://localhost:8080/"
        },
        "outputId": "daa551df-b39e-47be-d216-8f4d75228536"
      },
      "execution_count": 6,
      "outputs": [
        {
          "output_type": "stream",
          "name": "stdout",
          "text": [
            "Input a number5\n",
            "Factorial of a number is 120\n"
          ]
        }
      ]
    },
    {
      "cell_type": "code",
      "source": [],
      "metadata": {
        "id": "m4ho2ZtYqz20"
      },
      "execution_count": null,
      "outputs": []
    }
  ]
}